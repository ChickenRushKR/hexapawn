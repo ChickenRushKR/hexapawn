{
 "cells": [
  {
   "cell_type": "code",
   "execution_count": 9,
   "metadata": {},
   "outputs": [
    {
     "name": "stdout",
     "output_type": "stream",
     "text": [
      "[2, 2]\n"
     ]
    }
   ],
   "source": [
    "a = [3, 3]\n",
    "b = [-1, -1]\n",
    "\n",
    "print([ai + bi for ai, bi, in zip(a, b)])"
   ]
  },
  {
   "cell_type": "code",
   "execution_count": 10,
   "metadata": {},
   "outputs": [],
   "source": [
    "movrange = [[-1,0],[0,1],[1,0],[0,-1]]"
   ]
  },
  {
   "cell_type": "code",
   "execution_count": 12,
   "metadata": {},
   "outputs": [
    {
     "name": "stdout",
     "output_type": "stream",
     "text": [
      "[2, 3]\n",
      "[3, 4]\n",
      "[4, 3]\n",
      "[3, 2]\n"
     ]
    }
   ],
   "source": [
    "for mov in movrange:\n",
    "    print([ai + bi for ai, bi, in zip(a, mov)])"
   ]
  },
  {
   "cell_type": "code",
   "execution_count": 17,
   "metadata": {},
   "outputs": [
    {
     "data": {
      "text/plain": [
       "True"
      ]
     },
     "execution_count": 17,
     "metadata": {},
     "output_type": "execute_result"
    }
   ],
   "source": [
    "0 in range(0, 3)"
   ]
  },
  {
   "cell_type": "code",
   "execution_count": 22,
   "metadata": {},
   "outputs": [
    {
     "name": "stdout",
     "output_type": "stream",
     "text": [
      "[[0, 0, 0], [1, 1, 1], [2, 2, 2]]\n",
      "[[0, 0, 0], [1, 1, 1], [2, 2, 2]]\n",
      "[[0, 0, 0], [1, 6, 1], [2, 2, 2]]\n"
     ]
    }
   ],
   "source": [
    "import copy\n",
    "\n",
    "board = [[0,0,0],[1,1,1],[2,2,2]]\n",
    "bab = copy.deepcopy(board)\n",
    "print(bab)\n",
    "bab[1][1] = 6\n",
    "print(board)\n",
    "print(bab)"
   ]
  },
  {
   "cell_type": "code",
   "execution_count": 21,
   "metadata": {},
   "outputs": [
    {
     "data": {
      "text/plain": [
       "10"
      ]
     },
     "execution_count": 21,
     "metadata": {},
     "output_type": "execute_result"
    }
   ],
   "source": [
    "a = (10, 11)\n",
    "a[0]"
   ]
  },
  {
   "cell_type": "code",
   "execution_count": 25,
   "metadata": {},
   "outputs": [
    {
     "data": {
      "text/plain": [
       "1"
      ]
     },
     "execution_count": 25,
     "metadata": {},
     "output_type": "execute_result"
    }
   ],
   "source": [
    "board[1][2]"
   ]
  },
  {
   "cell_type": "code",
   "execution_count": 31,
   "metadata": {},
   "outputs": [
    {
     "name": "stdout",
     "output_type": "stream",
     "text": [
      "0 1 2\n"
     ]
    }
   ],
   "source": [
    "class temp:\n",
    "    def __init__(self, a, b, c):\n",
    "        self.a = a\n",
    "        self.b = b\n",
    "        self.c = c\n",
    "\n",
    "A = temp(0, 1, 2)\n",
    "print(A.a, A.b, A.c)"
   ]
  },
  {
   "cell_type": "code",
   "execution_count": 32,
   "metadata": {},
   "outputs": [
    {
     "ename": "AttributeError",
     "evalue": "'temp' object has no attribute 'copy'",
     "output_type": "error",
     "traceback": [
      "\u001b[0;31m---------------------------------------------------------------------------\u001b[0m",
      "\u001b[0;31mAttributeError\u001b[0m                            Traceback (most recent call last)",
      "\u001b[1;32m/Users/hyeonjin/projects/hexapawn-1/test.ipynb 셀 9\u001b[0m in \u001b[0;36m<module>\u001b[0;34m\u001b[0m\n\u001b[0;32m----> <a href='vscode-notebook-cell:/Users/hyeonjin/projects/hexapawn-1/test.ipynb#X11sZmlsZQ%3D%3D?line=0'>1</a>\u001b[0m B \u001b[39m=\u001b[39m A\u001b[39m.\u001b[39;49mcopy()\n\u001b[1;32m      <a href='vscode-notebook-cell:/Users/hyeonjin/projects/hexapawn-1/test.ipynb#X11sZmlsZQ%3D%3D?line=1'>2</a>\u001b[0m \u001b[39mprint\u001b[39m(B\u001b[39m.\u001b[39ma, B\u001b[39m.\u001b[39mb, B\u001b[39m.\u001b[39mc)\n",
      "\u001b[0;31mAttributeError\u001b[0m: 'temp' object has no attribute 'copy'"
     ]
    }
   ],
   "source": [
    "B = A.copy()\n",
    "print(B.a, B.b, B.c)"
   ]
  },
  {
   "cell_type": "code",
   "execution_count": 29,
   "metadata": {},
   "outputs": [
    {
     "name": "stdout",
     "output_type": "stream",
     "text": [
      "5 6 7\n"
     ]
    }
   ],
   "source": [
    "B.a = 5\n",
    "B.b = 6\n",
    "B.c = 7\n",
    "print(B.a, B.b, B.c)"
   ]
  },
  {
   "cell_type": "code",
   "execution_count": 30,
   "metadata": {},
   "outputs": [
    {
     "name": "stdout",
     "output_type": "stream",
     "text": [
      "5 6 7\n"
     ]
    }
   ],
   "source": [
    "print(A.a, A.b, A.c)"
   ]
  },
  {
   "cell_type": "code",
   "execution_count": null,
   "metadata": {},
   "outputs": [],
   "source": []
  }
 ],
 "metadata": {
  "kernelspec": {
   "display_name": "Python 3.9.0 ('tf')",
   "language": "python",
   "name": "python3"
  },
  "language_info": {
   "codemirror_mode": {
    "name": "ipython",
    "version": 3
   },
   "file_extension": ".py",
   "mimetype": "text/x-python",
   "name": "python",
   "nbconvert_exporter": "python",
   "pygments_lexer": "ipython3",
   "version": "3.9.0"
  },
  "orig_nbformat": 4,
  "vscode": {
   "interpreter": {
    "hash": "e7b9ba094fdf92b89294a1d24169cc65c781a0235f918d192709ccc79b601e3f"
   }
  }
 },
 "nbformat": 4,
 "nbformat_minor": 2
}
